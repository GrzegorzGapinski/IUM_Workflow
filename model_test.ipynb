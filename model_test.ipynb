{
 "cells": [
  {
   "cell_type": "code",
   "execution_count": 3,
   "id": "947b2b41",
   "metadata": {},
   "outputs": [
    {
     "name": "stdout",
     "output_type": "stream",
     "text": [
      "85/85 [==============================] - 0s 1ms/step\n"
     ]
    }
   ],
   "source": [
    "import pandas as pd\n",
    "import tensorflow as tf\n",
    "\n",
    "df = pd.read_csv('data_test.csv')\n",
    "\n",
    "df.drop(['zwyciezca'], axis=1, inplace=True)\n",
    "\n",
    "model = tf.keras.models.load_model('model_election.h5')\n",
    "\n",
    "predictions = model.predict(df).flatten()\n",
    "\n",
    "output = pd.DataFrame({'predicted': predictions})\n",
    "output.loc[output['predicted'] <= 0.5, 'predicted'] = 0\n",
    "output.loc[output['predicted'] > 0.5, 'predicted'] = 1\n",
    "output.to_csv('election_predictions.csv', index=False)"
   ]
  },
  {
   "cell_type": "code",
   "execution_count": null,
   "id": "526d5240",
   "metadata": {},
   "outputs": [],
   "source": []
  }
 ],
 "metadata": {
  "kernelspec": {
   "display_name": "Python 3 (ipykernel)",
   "language": "python",
   "name": "python3"
  },
  "language_info": {
   "codemirror_mode": {
    "name": "ipython",
    "version": 3
   },
   "file_extension": ".py",
   "mimetype": "text/x-python",
   "name": "python",
   "nbconvert_exporter": "python",
   "pygments_lexer": "ipython3",
   "version": "3.9.7"
  }
 },
 "nbformat": 4,
 "nbformat_minor": 5
}
